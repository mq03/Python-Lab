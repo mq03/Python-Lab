{
 "cells": [
  {
   "cell_type": "markdown",
   "id": "cc0a25c8",
   "metadata": {},
   "source": [
    "# Error Propagation Rule 1"
   ]
  },
  {
   "cell_type": "code",
   "execution_count": 20,
   "id": "31a5cdd2",
   "metadata": {},
   "outputs": [
    {
     "name": "stdout",
     "output_type": "stream",
     "text": [
      "Imput Error in A1\n",
      "Constant1\n",
      "1.0\n"
     ]
    }
   ],
   "source": [
    "dA=float(input(\"Imput Error in A\"))\n",
    "c=float(input(\"Constant\"))\n",
    "def rule1(c,dA):\n",
    "    dQ=c*dA\n",
    "    return dQ\n",
    "dQ = rule1(c,dA)\n",
    "print(dQ)"
   ]
  },
  {
   "cell_type": "markdown",
   "id": "39ae20f2",
   "metadata": {},
   "source": [
    "# Error Propagation Rule 2"
   ]
  },
  {
   "cell_type": "code",
   "execution_count": 21,
   "id": "f7a7d792",
   "metadata": {},
   "outputs": [
    {
     "name": "stdout",
     "output_type": "stream",
     "text": [
      "Input Exponent Base1\n",
      "Input Error in A1\n",
      "Constant1\n",
      "Input The Exponent1\n",
      "1.0\n"
     ]
    }
   ],
   "source": [
    "A=float(input(\"Input Exponent Base\"))\n",
    "dA=float(input(\"Input Error in A\"))\n",
    "c=float(input(\"Constant\"))\n",
    "m=float(input(\"Input The Exponent\"))\n",
    "def rule2(c,m,A,dA):\n",
    "    dQ=c*m*A**(m-1)*dA\n",
    "    return dQ\n",
    "dQ = rule2(c,m,A,dA)\n",
    "print(dQ)\n"
   ]
  },
  {
   "cell_type": "markdown",
   "id": "0ca9d841",
   "metadata": {},
   "source": [
    "# Error Propagation Rule 3"
   ]
  },
  {
   "cell_type": "code",
   "execution_count": 22,
   "id": "e069b4f5",
   "metadata": {
    "scrolled": false
   },
   "outputs": [
    {
     "name": "stdout",
     "output_type": "stream",
     "text": [
      "Input Error in A1\n",
      "Input Error in B1\n",
      "1.4142135623730951\n"
     ]
    }
   ],
   "source": [
    "dA=float(input(\"Input Error in A\"))\n",
    "dB=float(input(\"Input Error in B\"))\n",
    "def rule3(dA,dB):\n",
    "    dQ=(dA**2+dB**2)**0.5\n",
    "    return dQ\n",
    "dQ=rule3(dA,dB)\n",
    "print(dQ)\n"
   ]
  },
  {
   "cell_type": "markdown",
   "id": "bf8f816a",
   "metadata": {},
   "source": [
    "# Error Propagation Rule 4"
   ]
  },
  {
   "cell_type": "code",
   "execution_count": 23,
   "id": "fc713543",
   "metadata": {
    "scrolled": false
   },
   "outputs": [
    {
     "name": "stdout",
     "output_type": "stream",
     "text": [
      "Base Exponent A1\n",
      "Error in A1\n",
      "Base Exponent B1\n",
      "Error in B1\n",
      "Exponent n1\n",
      "Exponent m1\n",
      "Q1\n",
      "1.4142135623730951\n"
     ]
    }
   ],
   "source": [
    "A=float(input(\"Base Exponent A\"))\n",
    "dA=float(input(\"Error in A\"))\n",
    "B=float(input(\"Base Exponent B\"))\n",
    "dB=float(input(\"Error in B\"))\n",
    "n=float(input(\"Exponent n\"))\n",
    "m=float(input(\"Exponent m\"))\n",
    "Q=float(input(\"Q\"))\n",
    "def rule4(A,dA,B,dB,n,m,Q):\n",
    "    dQ=Q*((((m*dA))/A)**2+(((n*dB))/B)**2)**0.5\n",
    "    return dQ\n",
    "dQ=rule4(A,dA,B,dB,n,m,Q)\n",
    "print(dQ)\n",
    "\n",
    "    \n",
    "    "
   ]
  },
  {
   "cell_type": "markdown",
   "id": "ed3c473c",
   "metadata": {},
   "source": [
    "# Calculating \\delta(v) initial from Method 2 of Ballistic Pendulum Lab"
   ]
  },
  {
   "cell_type": "markdown",
   "id": "9a130c95",
   "metadata": {},
   "source": [
    "Yes, the calculation for uncertainty in initial velocity for Method 2 of the Ballistic Pendulum Lab is the same for both Python and the calculations done of it being the same value of plus or minus 0.01."
   ]
  },
  {
   "cell_type": "code",
   "execution_count": 30,
   "id": "17d33901",
   "metadata": {},
   "outputs": [
    {
     "name": "stdout",
     "output_type": "stream",
     "text": [
      "Base Exponent A1.5671\n",
      "Error in A0.0041\n",
      "Base Exponent B0.985\n",
      "Error in B0.0005\n",
      "Exponent n0.5\n",
      "Exponent m1\n",
      "Q3.495\n",
      "uncertainty: 0.00918688608043066\n"
     ]
    }
   ],
   "source": [
    "A=float(input(\"Base Exponent A\"))\n",
    "dA=float(input(\"Error in A\"))\n",
    "B=float(input(\"Base Exponent B\"))\n",
    "dB=float(input(\"Error in B\"))\n",
    "n=float(input(\"Exponent n\"))\n",
    "m=float(input(\"Exponent m\"))\n",
    "Q=float(input(\"Q\"))\n",
    "def rule4(A,dA,B,dB,n,m,Q):\n",
    "    dQ=Q*((((m*dA))/A)**2+(((n*dB))/B)**2)**0.5\n",
    "    return dQ\n",
    "dQ=rule4(A,dA,B,dB,n,m,Q)\n",
    "print('uncertainty:', dQ)"
   ]
  },
  {
   "cell_type": "markdown",
   "id": "db2d2b39",
   "metadata": {},
   "source": [
    "# Using Python For Calculations"
   ]
  },
  {
   "cell_type": "markdown",
   "id": "4a51927d",
   "metadata": {},
   "source": [
    "The calculations resulted in the average of the values given to be 1.67, and an error of 0.073. "
   ]
  },
  {
   "cell_type": "code",
   "execution_count": 29,
   "id": "45c16bec",
   "metadata": {},
   "outputs": [
    {
     "name": "stdout",
     "output_type": "stream",
     "text": [
      "average: 1.1166666666666667\n"
     ]
    }
   ],
   "source": [
    "import numpy as np\n",
    "x = [1.1, 1.3, 1.4, 0.9, 0.95, 1.05]\n",
    "avg = sum(x)/len(x)\n",
    "print('average:', avg)"
   ]
  },
  {
   "cell_type": "code",
   "execution_count": 28,
   "id": "2281e291",
   "metadata": {},
   "outputs": [
    {
     "name": "stdout",
     "output_type": "stream",
     "text": [
      "error: 0.073282810879294\n"
     ]
    }
   ],
   "source": [
    "import numpy as np\n",
    "x = [1.1, 1.3, 1.4, 0.9, 0.95, 1.05]\n",
    "print('error:', np.std(x)/np.sqrt(6))"
   ]
  },
  {
   "cell_type": "markdown",
   "id": "921b00a6",
   "metadata": {},
   "source": [
    "# LaTex In Jupyter Notebooks"
   ]
  },
  {
   "cell_type": "markdown",
   "id": "8b792466",
   "metadata": {},
   "source": [
    "$Q=\\sqrt{(\\delta A)^2+(\\delta B)^2}$\n"
   ]
  },
  {
   "cell_type": "markdown",
   "id": "828b2759",
   "metadata": {},
   "source": [
    "$\\delta(v_i) = \\sqrt{\\frac{\\delta\\bar{x}}{\\bar{x}}^2+\\frac{0.5\\cdot\\delta{y}}{y}^2}$"
   ]
  }
 ],
 "metadata": {
  "kernelspec": {
   "display_name": "Python 3 (ipykernel)",
   "language": "python",
   "name": "python3"
  },
  "language_info": {
   "codemirror_mode": {
    "name": "ipython",
    "version": 3
   },
   "file_extension": ".py",
   "mimetype": "text/x-python",
   "name": "python",
   "nbconvert_exporter": "python",
   "pygments_lexer": "ipython3",
   "version": "3.9.12"
  }
 },
 "nbformat": 4,
 "nbformat_minor": 5
}
